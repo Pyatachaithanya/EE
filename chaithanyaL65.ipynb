{
  "nbformat": 4,
  "nbformat_minor": 0,
  "metadata": {
    "colab": {
      "provenance": [],
      "include_colab_link": true
    },
    "kernelspec": {
      "name": "python3",
      "display_name": "Python 3"
    },
    "language_info": {
      "name": "python"
    }
  },
  "cells": [
    {
      "cell_type": "markdown",
      "metadata": {
        "id": "view-in-github",
        "colab_type": "text"
      },
      "source": [
        "<a href=\"https://colab.research.google.com/github/Pyatachaithanya/EE/blob/main/chaithanyaL65.ipynb\" target=\"_parent\"><img src=\"https://colab.research.google.com/assets/colab-badge.svg\" alt=\"Open In Colab\"/></a>"
      ]
    },
    {
      "cell_type": "code",
      "execution_count": 2,
      "metadata": {
        "colab": {
          "base_uri": "https://localhost:8080/"
        },
        "id": "s_X6Gly8pxRh",
        "outputId": "d07dad52-50d0-46ac-fafa-a8fdbc2ed7b7"
      },
      "outputs": [
        {
          "output_type": "stream",
          "name": "stdout",
          "text": [
            "enter the load value 0.25\n",
            "ro 193.6\n",
            "xo 193.6\n",
            "ro1 1.25\n",
            "xo1 1.3975424859373686\n",
            "efficiency 81.63265306122449\n",
            "variable copper losses 31.25\n",
            "npa 0.9665016340022088\n"
          ]
        }
      ],
      "source": [
        "import math\n",
        "x=float(input(\"enter the load value \"))\n",
        "r=5000\n",
        "pv=220\n",
        "sv=440\n",
        "io=2\n",
        "vo=220\n",
        "wo=250\n",
        "isc=10\n",
        "vsc=75\n",
        "wsc=500\n",
        "pf=(1)\n",
        "vcloss=x**2*wsc\n",
        "noloadpf=float(wo/(vo*io))\n",
        "efficiency=(x*r*pf)/(x*r*pf+wo+wsc*x**2)*100\n",
        "k=sv/pv\n",
        "iw=io*noloadpf\n",
        "ro=vo/iw\n",
        "imu=io*math.sqrt(1-noloadpf**2)\n",
        "xo=vo/imu\n",
        "ro2=wsc/isc**2\n",
        "ro1=ro2/k**2\n",
        "zo2=vsc/isc\n",
        "xo2=math.sqrt(zo2**2-ro2**2)\n",
        "xo1=xo2/k**2\n",
        "npa=math.acos(wo/(vo*io))\n",
        "print(\"ro\",ro)\n",
        "print(\"xo\",ro)\n",
        "print(\"ro1\",ro1)\n",
        "print(\"xo1\",xo1)\n",
        "print(\"efficiency\",efficiency)\n",
        "print(\"variable copper losses\", vcloss)\n",
        "print(\"npa\",npa)"
      ]
    }
  ]
}