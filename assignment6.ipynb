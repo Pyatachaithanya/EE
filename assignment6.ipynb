{
  "nbformat": 4,
  "nbformat_minor": 0,
  "metadata": {
    "colab": {
      "provenance": [],
      "toc_visible": true,
      "authorship_tag": "ABX9TyOPReUdlUdOJsvMHRC/y1OQ",
      "include_colab_link": true
    },
    "kernelspec": {
      "name": "python3",
      "display_name": "Python 3"
    },
    "language_info": {
      "name": "python"
    }
  },
  "cells": [
    {
      "cell_type": "markdown",
      "metadata": {
        "id": "view-in-github",
        "colab_type": "text"
      },
      "source": [
        "<a href=\"https://colab.research.google.com/github/Pyatachaithanya/EE/blob/main/assignment6.ipynb\" target=\"_parent\"><img src=\"https://colab.research.google.com/assets/colab-badge.svg\" alt=\"Open In Colab\"/></a>"
      ]
    },
    {
      "cell_type": "code",
      "execution_count": 1,
      "metadata": {
        "colab": {
          "base_uri": "https://localhost:8080/"
        },
        "id": "6MvN4kXoEkGa",
        "outputId": "ccd02ab2-4bfa-4ccc-dde7-8e949d26c8ea"
      },
      "outputs": [
        {
          "output_type": "stream",
          "name": "stdout",
          "text": [
            "++++++\r\n",
            "+++++\r\n",
            "++++\r\n",
            "+++\r\n",
            "++\r\n",
            "+\r\n",
            "\r\n"
          ]
        }
      ],
      "source": [
        "i=1\n",
        "for i in range (7,0,-1):\n",
        "  j=1\n",
        "  for j in range(0,i-1):\n",
        "    j=1\n",
        "    print(\"+\"*j,end=\"\")\n",
        "  print(\"\\r\")\n"
      ]
    },
    {
      "cell_type": "code",
      "source": [
        "i=6\n",
        "for p in range(6,0,-1):\n",
        "  for t in range(i-p):\n",
        "   print(' ',end='')\n",
        "\n",
        "  for j in range(p):\n",
        "      print('+',end='')\n",
        "\n",
        "  print('')"
      ],
      "metadata": {
        "colab": {
          "base_uri": "https://localhost:8080/"
        },
        "id": "h4dppsg0FB32",
        "outputId": "68c0029c-2548-4b1a-841d-878f42f85fe3"
      },
      "execution_count": 2,
      "outputs": [
        {
          "output_type": "stream",
          "name": "stdout",
          "text": [
            "++++++\n",
            " +++++\n",
            "  ++++\n",
            "   +++\n",
            "    ++\n",
            "     +\n"
          ]
        }
      ]
    },
    {
      "cell_type": "code",
      "source": [
        "i=5\n",
        "for p in range(1,6):\n",
        "  for t in range(i-p):\n",
        "   print(' ',end='')\n",
        "\n",
        "  for j in range(p):\n",
        "      print('*',end='')\n",
        "\n",
        "  print('')"
      ],
      "metadata": {
        "colab": {
          "base_uri": "https://localhost:8080/"
        },
        "id": "Ql1TlXhKFMoS",
        "outputId": "8723d8ce-faa3-4c70-a1ce-bb111335e886"
      },
      "execution_count": 3,
      "outputs": [
        {
          "output_type": "stream",
          "name": "stdout",
          "text": [
            "    *\n",
            "   **\n",
            "  ***\n",
            " ****\n",
            "*****\n"
          ]
        }
      ]
    },
    {
      "cell_type": "code",
      "source": [
        "i=6\n",
        "for p in range(6,0,-1):\n",
        "  j=1\n",
        "  for b in range(i-p):\n",
        "    j=i+1\n",
        "    print(\"*\",end=\"\")\n",
        "  print(\"\\r\")\n"
      ],
      "metadata": {
        "colab": {
          "base_uri": "https://localhost:8080/"
        },
        "id": "0mCuHs5LFVOu",
        "outputId": "69d7fc6e-bb61-4a01-b919-ad92dafc9310"
      },
      "execution_count": 7,
      "outputs": [
        {
          "output_type": "stream",
          "name": "stdout",
          "text": [
            "\r\n",
            "*\r\n",
            "**\r\n",
            "***\r\n",
            "****\r\n",
            "*****\r\n"
          ]
        }
      ]
    },
    {
      "cell_type": "code",
      "source": [
        "\n",
        "i=1\n",
        "for i in range(0,7):\n",
        "  j=1\n",
        "  for j in range(0,i):\n",
        "    j=i+1\n",
        "    print(\"*\",end=\"\")\n",
        "  print(\"\\r\")"
      ],
      "metadata": {
        "colab": {
          "base_uri": "https://localhost:8080/"
        },
        "id": "zB93ejP4GFDm",
        "outputId": "061c5323-8843-4278-9950-1ce5ff85b37a"
      },
      "execution_count": 8,
      "outputs": [
        {
          "output_type": "stream",
          "name": "stdout",
          "text": [
            "\r\n",
            "*\r\n",
            "**\r\n",
            "***\r\n",
            "****\r\n",
            "*****\r\n",
            "******\r\n"
          ]
        }
      ]
    },
    {
      "cell_type": "code",
      "source": [],
      "metadata": {
        "id": "3YNJp_7hGWaO"
      },
      "execution_count": null,
      "outputs": []
    }
  ]
}