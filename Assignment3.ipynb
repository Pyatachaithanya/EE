{
  "nbformat": 4,
  "nbformat_minor": 0,
  "metadata": {
    "colab": {
      "provenance": [],
      "authorship_tag": "ABX9TyO7/4F259xlGqiLs78CSR57",
      "include_colab_link": true
    },
    "kernelspec": {
      "name": "python3",
      "display_name": "Python 3"
    },
    "language_info": {
      "name": "python"
    }
  },
  "cells": [
    {
      "cell_type": "markdown",
      "metadata": {
        "id": "view-in-github",
        "colab_type": "text"
      },
      "source": [
        "<a href=\"https://colab.research.google.com/github/Pyatachaithanya/EE/blob/main/Assignment3.ipynb\" target=\"_parent\"><img src=\"https://colab.research.google.com/assets/colab-badge.svg\" alt=\"Open In Colab\"/></a>"
      ]
    },
    {
      "cell_type": "code",
      "execution_count": 8,
      "metadata": {
        "colab": {
          "base_uri": "https://localhost:8080/"
        },
        "id": "MRxJPh6cBXvm",
        "outputId": "93b9a7d4-670e-4cab-f45f-f0fb6d8dbbdb"
      },
      "outputs": [
        {
          "output_type": "stream",
          "name": "stdout",
          "text": [
            "enter load X0.5\n",
            "---------------------------\n",
            "r0 is : 193.6\n",
            "x0 is : 133.67309875319802\n",
            "r01 R refer to pimary :  1.25\n",
            "x01 is :  0.5590169943749475\n",
            "efficiency at  0.5 load:  86.95652173913044 %\n",
            "copper at  0.5 load:  250.0 WATTS\n"
          ]
        }
      ],
      "source": [
        "import math as mt\n",
        "import transformer as tf\n",
        "rating=5000\n",
        "#Pc=core loss\n",
        "V1=220\n",
        "V2=440\n",
        "Vo=220\n",
        "Io=2\n",
        "Wo=250\n",
        "\n",
        "Vsc=75\n",
        "Isc=10\n",
        "Wsc=500\n",
        "\n",
        "pf=1\n",
        "X=float(input(\"enter load X\"))\n",
        "\n",
        "\n",
        "'''def oc(Vo,Io,Wo):\n",
        "\n",
        "    Noloadpf=float(Wo)/(Vo*Io)\n",
        "    Iw=float(Io*Noloadpf)\n",
        "\n",
        "    Imu = Io * mt.sqrt(1 - Noloadpf ** 2)\n",
        "    R0=float(Vo/Iw)\n",
        "    X0=float(Vo/Imu)\n",
        "    return R0,X0'''\n",
        "\n",
        "''' def Sc(Vsc,Wsc,Isc,Sv,Pv):\n",
        "    k=float(V2/V1)\n",
        "    R02=float(Wsc/Isc**2)\n",
        "    Z02=float(Vsc/Isc)\n",
        "    X02=mt.sqrt(Z02*2-R02*2)\n",
        "    R01=float(R02/k**2)\n",
        "    X01=float(X02/k**2)\n",
        "    return R01,X01'''\n",
        "\n",
        "def eff(rating,Wo,Wsc,X,pf):\n",
        "    efficiency = (X*rating*pf)/(X*rating*pf+Wo+X**2*Wsc)\n",
        "    copper=Wsc*X\n",
        "    return efficiency,copper\n",
        "phase_angle=mt.acos(Wo/(Vo*Io))\n",
        "noloaphaseang=mt.degrees(phase_angle)\n",
        "print(\"---------------------------\")\n",
        "\n",
        "#function call for r0,x0 and input v0,i0,wo\n",
        "R0,X0=tf.oc(Vo,Io,Wo)\n",
        "print(\"r0 is :\",R0)\n",
        "print(\"x0 is :\",X0)\n",
        "#function call for r01,x01 and input :vsc,x01 ,wsc\n",
        "R01,X01=tf.Sc(Vsc,Wsc,Isc,V1,V2)\n",
        "print(\"r01 R refer to pimary : \",R01)\n",
        "print(\"x01 is : \",X01)\n",
        "\n",
        "#function call for eff and copper\n",
        "efficiency,copper=tf.eff(rating,Wo,Wsc,X,pf)\n",
        "print(\"efficiency at \",X,\"load: \",efficiency,\"%\")\n",
        "print(\"copper at \",X,\"load: \",copper,\"WATTS\")"
      ]
    }
  ]
}