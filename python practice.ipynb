{
  "nbformat": 4,
  "nbformat_minor": 0,
  "metadata": {
    "colab": {
      "provenance": [],
      "authorship_tag": "ABX9TyNlZnkV+jbExVICIhVGZlvy",
      "include_colab_link": true
    },
    "kernelspec": {
      "name": "python3",
      "display_name": "Python 3"
    },
    "language_info": {
      "name": "python"
    }
  },
  "cells": [
    {
      "cell_type": "markdown",
      "metadata": {
        "id": "view-in-github",
        "colab_type": "text"
      },
      "source": [
        "<a href=\"https://colab.research.google.com/github/Pyatachaithanya/EE/blob/main/python%20practice.ipynb\" target=\"_parent\"><img src=\"https://colab.research.google.com/assets/colab-badge.svg\" alt=\"Open In Colab\"/></a>"
      ]
    },
    {
      "cell_type": "code",
      "execution_count": 6,
      "metadata": {
        "colab": {
          "base_uri": "https://localhost:8080/"
        },
        "id": "BGfWtYja71aT",
        "outputId": "529408c6-bf44-4738-faed-71ea5947fd49"
      },
      "outputs": [
        {
          "output_type": "stream",
          "name": "stdout",
          "text": [
            "63\n"
          ]
        }
      ],
      "source": [
        "import math\n",
        "print(len(dir(math)))"
      ]
    },
    {
      "cell_type": "code",
      "source": [
        "import math\n",
        "num=int(input('enter the number'))\n",
        "print(round(math. factorial(num)))\n"
      ],
      "metadata": {
        "colab": {
          "base_uri": "https://localhost:8080/"
        },
        "id": "fQcGlh0jBISo",
        "outputId": "4503dcfe-79d2-4655-ce3a-727103679ccc"
      },
      "execution_count": 9,
      "outputs": [
        {
          "output_type": "stream",
          "name": "stdout",
          "text": [
            "enter the number5\n",
            "120\n"
          ]
        }
      ]
    },
    {
      "cell_type": "code",
      "source": [
        "#we can give alis name to module\n",
        "import math as c\n",
        "num=int(input('enter the number'))\n",
        "print(c.sqrt(num))"
      ],
      "metadata": {
        "colab": {
          "base_uri": "https://localhost:8080/"
        },
        "id": "aYOs9G9xCy7f",
        "outputId": "ee3ba474-8efe-4e97-84a3-7266fc9f49f8"
      },
      "execution_count": 11,
      "outputs": [
        {
          "output_type": "stream",
          "name": "stdout",
          "text": [
            "enter the number16\n",
            "4.0\n"
          ]
        }
      ]
    },
    {
      "cell_type": "code",
      "source": [
        "#to find the area of the circle\n",
        "from math import pi\n",
        "r=int(input('enter the radius'))\n",
        "area=pi*r*r\n",
        "print(round(area))\n",
        "\n"
      ],
      "metadata": {
        "colab": {
          "base_uri": "https://localhost:8080/"
        },
        "id": "sgoT3T-5DiDN",
        "outputId": "5a931bdd-201d-41c0-f215-154963adf3ff"
      },
      "execution_count": 13,
      "outputs": [
        {
          "output_type": "stream",
          "name": "stdout",
          "text": [
            "enter the radius2\n",
            "13\n"
          ]
        }
      ]
    },
    {
      "cell_type": "code",
      "source": [
        "# input and output functions\n",
        "print()"
      ],
      "metadata": {
        "colab": {
          "base_uri": "https://localhost:8080/"
        },
        "id": "TuzmdCjKIUsY",
        "outputId": "9c86c0f1-e5ad-4f1e-e1dd-e342bcdb2bfc"
      },
      "execution_count": 20,
      "outputs": [
        {
          "output_type": "stream",
          "name": "stdout",
          "text": [
            "\n"
          ]
        }
      ]
    },
    {
      "cell_type": "code",
      "source": [
        "print ('hello')\n",
        "print('world')"
      ],
      "metadata": {
        "colab": {
          "base_uri": "https://localhost:8080/"
        },
        "id": "yQMSU1ByIiad",
        "outputId": "0b0f0d0e-85c0-4214-8cf2-c3429bd0ee31"
      },
      "execution_count": 21,
      "outputs": [
        {
          "output_type": "stream",
          "name": "stdout",
          "text": [
            "hello\n",
            "world\n"
          ]
        }
      ]
    },
    {
      "cell_type": "code",
      "source": [
        "# line seperator\n",
        "print('hello')\n",
        "print()\n",
        "print('world')"
      ],
      "metadata": {
        "colab": {
          "base_uri": "https://localhost:8080/"
        },
        "id": "0P4lmvd1IthH",
        "outputId": "a6eda3ff-9552-4314-99b1-9f94d9d267e6"
      },
      "execution_count": 23,
      "outputs": [
        {
          "output_type": "stream",
          "name": "stdout",
          "text": [
            "hello\n",
            "\n",
            "world\n"
          ]
        }
      ]
    },
    {
      "cell_type": "code",
      "source": [
        "#escaping characterestics(\\n)\n",
        "print('hello')\n",
        "print('hell0 \\n world')\n"
      ],
      "metadata": {
        "colab": {
          "base_uri": "https://localhost:8080/"
        },
        "id": "imTMfXcOPEgU",
        "outputId": "3e141f60-acb6-40d2-89eb-713cd74fed53"
      },
      "execution_count": 24,
      "outputs": [
        {
          "output_type": "stream",
          "name": "stdout",
          "text": [
            "hello\n",
            "hello \n",
            " world\n"
          ]
        }
      ]
    },
    {
      "cell_type": "code",
      "source": [
        "#\\t: used for foam a space\n",
        "print('hello\\tchaithanya ')\n",
        "print('good\\tmorning')"
      ],
      "metadata": {
        "colab": {
          "base_uri": "https://localhost:8080/"
        },
        "id": "j-Dept-xPdw4",
        "outputId": "fdd11ee1-24a0-4aea-bee9-586540a5cdf8"
      },
      "execution_count": 25,
      "outputs": [
        {
          "output_type": "stream",
          "name": "stdout",
          "text": [
            "hello\tchaithanya \n",
            "good\tmorning\n"
          ]
        }
      ]
    },
    {
      "cell_type": "code",
      "source": [
        "#concatentatoin\n",
        "print('hello'+'chaithanya' )"
      ],
      "metadata": {
        "colab": {
          "base_uri": "https://localhost:8080/"
        },
        "id": "5Oc0UVa-P_co",
        "outputId": "eae99e63-f30f-4e7f-bc84-3f923e5b407b"
      },
      "execution_count": 28,
      "outputs": [
        {
          "output_type": "stream",
          "name": "stdout",
          "text": [
            "hellochaithanya\n"
          ]
        }
      ]
    },
    {
      "cell_type": "code",
      "source": [
        "#string repeation\n",
        "print('chaithanya '*3)"
      ],
      "metadata": {
        "colab": {
          "base_uri": "https://localhost:8080/"
        },
        "id": "00vODFAKQWr1",
        "outputId": "b389c787-5ff8-49ff-c171-f25d35a3b47a"
      },
      "execution_count": 35,
      "outputs": [
        {
          "output_type": "stream",
          "name": "stdout",
          "text": [
            "chaithanya chaithanya chaithanya \n"
          ]
        }
      ]
    },
    {
      "cell_type": "code",
      "source": [
        "#variable numbers of orgumens\n",
        "a,b,c=10,20,30\n",
        "print('the values are a,b,c')"
      ],
      "metadata": {
        "colab": {
          "base_uri": "https://localhost:8080/"
        },
        "id": "9eHMgKbIRRF4",
        "outputId": "23cb1980-5fee-4eee-97a5-4b9e50b52230"
      },
      "execution_count": 37,
      "outputs": [
        {
          "output_type": "stream",
          "name": "stdout",
          "text": [
            "the values are a,b,c\n"
          ]
        }
      ]
    },
    {
      "cell_type": "code",
      "source": [
        "#write a program to find the radiud of the circle\n",
        "from math import pi as p\n",
        "print (eval(input('ente the radius ')))\n",
        "area=p*r**2\n",
        "print('the area of the circle with radius ')"
      ],
      "metadata": {
        "colab": {
          "base_uri": "https://localhost:8080/"
        },
        "id": "uw2lKOPJRyJj",
        "outputId": "ded2f18f-8e8e-416f-f65e-d705311b0284"
      },
      "execution_count": 42,
      "outputs": [
        {
          "output_type": "stream",
          "name": "stdout",
          "text": [
            "ente the radius 2\n",
            "2\n",
            "the area of the circle with radius \n"
          ]
        }
      ]
    },
    {
      "cell_type": "code",
      "source": [
        "#seperator attribute\n",
        "a,b,c=10,20,30\n",
        "print(a,b,c,sep='-')"
      ],
      "metadata": {
        "colab": {
          "base_uri": "https://localhost:8080/"
        },
        "id": "-TQPwp8NTpRC",
        "outputId": "a1eceb68-22a2-4d89-f069-b096a279b38d"
      },
      "execution_count": 45,
      "outputs": [
        {
          "output_type": "stream",
          "name": "stdout",
          "text": [
            "10-20-30\n"
          ]
        }
      ]
    },
    {
      "cell_type": "code",
      "source": [
        "a,c,l=10,20,30\n",
        "print(a, c, l, sep='')\n"
      ],
      "metadata": {
        "colab": {
          "base_uri": "https://localhost:8080/"
        },
        "id": "lR2KnMbSVO4z",
        "outputId": "8268a32d-b65f-42c7-bac2-eb52bd612bcf"
      },
      "execution_count": 58,
      "outputs": [
        {
          "output_type": "stream",
          "name": "stdout",
          "text": [
            "102030\n"
          ]
        }
      ]
    },
    {
      "cell_type": "code",
      "source": [
        "#end attribute\n",
        "print('hello',end='')\n",
        "print('chaithanya')"
      ],
      "metadata": {
        "colab": {
          "base_uri": "https://localhost:8080/"
        },
        "id": "xrze6pPBV-lk",
        "outputId": "ac7eab4a-f7c9-4523-c739-2b3c44c1ba83"
      },
      "execution_count": 57,
      "outputs": [
        {
          "output_type": "stream",
          "name": "stdout",
          "text": [
            "hellochaithanya\n"
          ]
        }
      ]
    },
    {
      "cell_type": "code",
      "source": [
        "#print object as orgument\n",
        "l=[10,20,30]\n",
        "t=[10,20,30]\n",
        "s={10,20,30,}\n",
        "print(l,end='')\n",
        "print(t,end='')\n",
        "print(s,end='')\n"
      ],
      "metadata": {
        "colab": {
          "base_uri": "https://localhost:8080/"
        },
        "id": "xIIXAEPSXu17",
        "outputId": "6775fd82-310d-4d1d-e0fd-589a0c254cba"
      },
      "execution_count": 61,
      "outputs": [
        {
          "output_type": "stream",
          "name": "stdout",
          "text": [
            "[10, 20, 30][10, 20, 30]{10, 20, 30}"
          ]
        }
      ]
    },
    {
      "cell_type": "code",
      "source": [
        "# replacement operator\n",
        "name='chaithanya '\n",
        "studying ='sr unversity'\n",
        "branch='EEE'\n",
        "print('hello {} your studying in  {}\\n and your branch is {}'.format(name,studying ,branch))"
      ],
      "metadata": {
        "colab": {
          "base_uri": "https://localhost:8080/"
        },
        "id": "PtF0RDvsboIa",
        "outputId": "ffbc03a6-9d6f-443e-c798-6e5603099a4d"
      },
      "execution_count": 75,
      "outputs": [
        {
          "output_type": "stream",
          "name": "stdout",
          "text": [
            "hello chaithanya  your studying in  sr unversity\n",
            " and your branch is EEE\n"
          ]
        }
      ]
    },
    {
      "cell_type": "code",
      "source": [
        "from math import pi as p\n",
        "r=eval(input('enter the radius'))\n",
        "print('the area of the circle with radius{}is{}'.format(r,p*r**2))"
      ],
      "metadata": {
        "colab": {
          "base_uri": "https://localhost:8080/"
        },
        "id": "jcZLB9yNvpGf",
        "outputId": "857a0882-8935-45c3-93dd-2559dbd98b61"
      },
      "execution_count": 1,
      "outputs": [
        {
          "output_type": "stream",
          "name": "stdout",
          "text": [
            "enter the radius2\n",
            "the area of the circle with radius2is12.566370614359172\n"
          ]
        }
      ]
    },
    {
      "cell_type": "code",
      "source": [
        "name=input('enter the name')\n",
        "if name=='chaithanya':\n",
        "  print(name,'good morning')\n",
        "else:\n",
        "  print('chandhana','good morning')\n",
        "\n",
        "\n",
        "\n",
        "\n",
        "\n"
      ],
      "metadata": {
        "colab": {
          "base_uri": "https://localhost:8080/"
        },
        "id": "xL3TRYOlz0lw",
        "outputId": "fd9b7271-61be-4439-8eb3-139971b306df"
      },
      "execution_count": 18,
      "outputs": [
        {
          "output_type": "stream",
          "name": "stdout",
          "text": [
            "enter the namelaxmi\n",
            "chandhana good morning\n"
          ]
        }
      ]
    },
    {
      "cell_type": "markdown",
      "source": [],
      "metadata": {
        "id": "wrL0b2EY2wK5"
      }
    },
    {
      "cell_type": "code",
      "source": [
        "num=eval(input('enter the number'))\n",
        "if num %2  ==0:\n",
        "  print('the given number,number is even')\n",
        "else:\n",
        " print('the given number,number is odd')\n",
        "\n"
      ],
      "metadata": {
        "colab": {
          "base_uri": "https://localhost:8080/"
        },
        "id": "gKAoFbjA2qus",
        "outputId": "028d2d76-1e65-4b10-c84c-393b82062250"
      },
      "execution_count": 32,
      "outputs": [
        {
          "output_type": "stream",
          "name": "stdout",
          "text": [
            "enter the number10\n",
            "the given number,number is even\n"
          ]
        }
      ]
    },
    {
      "cell_type": "code",
      "source": [
        "num=int(input('enter the name'))\n",
        "if num%2==0:\n",
        "  print('the given number{}is even'.format(num))\n",
        "else:\n",
        "  print('the given number{}is odd'.format(num))\n"
      ],
      "metadata": {
        "colab": {
          "base_uri": "https://localhost:8080/"
        },
        "id": "e0jq6fL_6T58",
        "outputId": "8371dfc6-a784-4eae-9d54-97ea1aab5b19"
      },
      "execution_count": 38,
      "outputs": [
        {
          "output_type": "stream",
          "name": "stdout",
          "text": [
            "enter the name5\n",
            "the given number5is odd\n"
          ]
        }
      ]
    },
    {
      "cell_type": "code",
      "source": [
        "#write a program to read two numbers from the keyboard and to find the biggest of 2 numbers\n",
        "n1=int(input('enter the value of n1'))\n",
        "n2=int(input('enter the value of n2'))\n",
        "if n1>n2:\n",
        "  print('{}is greater than{}'.format(n1,n2))\n",
        "else:\n",
        "  print('{}is greater than {}'.format(n2,n1))\n"
      ],
      "metadata": {
        "colab": {
          "base_uri": "https://localhost:8080/"
        },
        "id": "1GtqFQRN8ItJ",
        "outputId": "013cadbb-6a6a-4cea-e3be-04db57a8252a"
      },
      "execution_count": 39,
      "outputs": [
        {
          "output_type": "stream",
          "name": "stdout",
          "text": [
            "enter the value of n110\n",
            "enter the value of n213\n",
            "13is greater than 10\n"
          ]
        }
      ]
    },
    {
      "cell_type": "code",
      "source": [
        "print('welcome to the tyristor family')\n",
        "function=input('pls give your working')\n",
        "if function=='jfet':\n",
        "  print('give o/p characterestics')\n",
        "elif function=='igbt':\n",
        "   print('give i/p characterestics')\n",
        "elif function=='mosfet':\n",
        "    print('give i/p and o/p characterestics')\n",
        "else:\n",
        "      print('if dc machines not belongs to power electronics')\n"
      ],
      "metadata": {
        "colab": {
          "base_uri": "https://localhost:8080/"
        },
        "id": "Ybay8KTeBlRa",
        "outputId": "5cb66cc8-3391-412a-b911-430c97f16cf7"
      },
      "execution_count": 43,
      "outputs": [
        {
          "output_type": "stream",
          "name": "stdout",
          "text": [
            "welcome to the tyristor family\n",
            "pls give your workingmosfet\n",
            "give i/p and o/p characterestics\n"
          ]
        }
      ]
    },
    {
      "cell_type": "code",
      "source": [
        "#iterative staments (for loop/while loop)\n",
        "for i in range(1,11):\n",
        "  print(i,end='')"
      ],
      "metadata": {
        "colab": {
          "base_uri": "https://localhost:8080/"
        },
        "id": "-SVV-nO8L2Wn",
        "outputId": "5a217d0f-10a0-4a0f-e55f-283bc5db2992"
      },
      "execution_count": 45,
      "outputs": [
        {
          "output_type": "stream",
          "name": "stdout",
          "text": [
            "12345678910"
          ]
        }
      ]
    },
    {
      "cell_type": "code",
      "source": [
        "#write a program to accept the string from the keyboard and print the caracterestics\n",
        "str=input ('enter the string')\n",
        "for i in str:\n",
        "  print(i)\n"
      ],
      "metadata": {
        "colab": {
          "base_uri": "https://localhost:8080/"
        },
        "id": "D067UHU2Mags",
        "outputId": "4f761e81-723a-4071-d014-16a74ffd6eee"
      },
      "execution_count": 48,
      "outputs": [
        {
          "output_type": "stream",
          "name": "stdout",
          "text": [
            "enter the stringnani\n",
            "n\n",
            "a\n",
            "n\n",
            "i\n"
          ]
        }
      ]
    },
    {
      "cell_type": "code",
      "source": [
        "#write a prigram to accept the list and point the objects in the list\n",
        "list=eval(input('enter the list'))\n",
        "for i in list:\n",
        "  print(i,end='')"
      ],
      "metadata": {
        "colab": {
          "base_uri": "https://localhost:8080/"
        },
        "id": "czpaPGybNi9J",
        "outputId": "c314f856-3664-4376-ef07-fff64afebd2c"
      },
      "execution_count": 61,
      "outputs": [
        {
          "output_type": "stream",
          "name": "stdout",
          "text": [
            "enter the list['nani']\n",
            "nani"
          ]
        }
      ]
    },
    {
      "cell_type": "code",
      "source": [
        "#write a program to display the even numbers from 0to10 using loop\n",
        "for i in range(0,11,2):\n",
        "  print(i)"
      ],
      "metadata": {
        "colab": {
          "base_uri": "https://localhost:8080/"
        },
        "id": "uu7ML77sQntn",
        "outputId": "1e1fcfb8-f9ae-49a0-b8d9-94431ba70b36"
      },
      "execution_count": 72,
      "outputs": [
        {
          "output_type": "stream",
          "name": "stdout",
          "text": [
            "0\n",
            "2\n",
            "4\n",
            "6\n",
            "8\n",
            "10\n"
          ]
        }
      ]
    },
    {
      "cell_type": "code",
      "source": [
        "#accept the string from the keyboard\n",
        "str=input('enter the string')\n",
        "for x in str:\n",
        "  print('the charactere present at index{}is{}'.format(i,x))\n",
        "  i+1#i+1\n",
        "\n"
      ],
      "metadata": {
        "colab": {
          "base_uri": "https://localhost:8080/"
        },
        "id": "BcJ__dXESVGf",
        "outputId": "0f7eeb57-fcc1-43a7-e279-953f5747d49c"
      },
      "execution_count": 73,
      "outputs": [
        {
          "output_type": "stream",
          "name": "stdout",
          "text": [
            "enter the stringchaithanya\n",
            "the charactere present at index10isc\n",
            "the charactere present at index10ish\n",
            "the charactere present at index10isa\n",
            "the charactere present at index10isi\n",
            "the charactere present at index10ist\n",
            "the charactere present at index10ish\n",
            "the charactere present at index10isa\n",
            "the charactere present at index10isn\n",
            "the charactere present at index10isy\n",
            "the charactere present at index10isa\n"
          ]
        }
      ]
    },
    {
      "cell_type": "code",
      "source": [
        "#ve and -ve both index are printing\n",
        "str=input('enter the string')\n",
        "i=0\n",
        "for x in str:\n",
        " print('the character present at +veindex{}and -veindex {}is{}'.format(i,i-len(str),x))\n",
        "i+=1\n",
        "\n"
      ],
      "metadata": {
        "colab": {
          "base_uri": "https://localhost:8080/"
        },
        "id": "tpNpIsstTiom",
        "outputId": "877eb3a3-02d5-4041-b885-3d189bf60637"
      },
      "execution_count": 85,
      "outputs": [
        {
          "output_type": "stream",
          "name": "stdout",
          "text": [
            "enter the stringsudheer\n",
            "the character present at +veindex0and -veindex -7iss\n",
            "the character present at +veindex0and -veindex -7isu\n",
            "the character present at +veindex0and -veindex -7isd\n",
            "the character present at +veindex0and -veindex -7ish\n",
            "the character present at +veindex0and -veindex -7ise\n",
            "the character present at +veindex0and -veindex -7ise\n",
            "the character present at +veindex0and -veindex -7isr\n"
          ]
        }
      ]
    },
    {
      "cell_type": "code",
      "source": [
        "#how to get tables in python\n",
        "n=int(input('enter the value'))\n",
        "for i in range(1,11):\n",
        " print('{}*{}={}'.format(n,i,n*i))\n"
      ],
      "metadata": {
        "colab": {
          "base_uri": "https://localhost:8080/"
        },
        "id": "QZD0cS59Vp5O",
        "outputId": "5b61b683-8d61-4e86-eb2e-3b3660cc5d88"
      },
      "execution_count": 90,
      "outputs": [
        {
          "output_type": "stream",
          "name": "stdout",
          "text": [
            "enter the value9\n",
            "9*1=9\n",
            "9*2=18\n",
            "9*3=27\n",
            "9*4=36\n",
            "9*5=45\n",
            "9*6=54\n",
            "9*7=63\n",
            "9*8=72\n",
            "9*9=81\n",
            "9*10=90\n"
          ]
        }
      ]
    }
  ]
}