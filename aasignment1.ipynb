{
  "nbformat": 4,
  "nbformat_minor": 0,
  "metadata": {
    "colab": {
      "provenance": [],
      "authorship_tag": "ABX9TyMdMMcOdjZuo7lMmH5+XY6Q",
      "include_colab_link": true
    },
    "kernelspec": {
      "name": "python3",
      "display_name": "Python 3"
    },
    "language_info": {
      "name": "python"
    }
  },
  "cells": [
    {
      "cell_type": "markdown",
      "metadata": {
        "id": "view-in-github",
        "colab_type": "text"
      },
      "source": [
        "<a href=\"https://colab.research.google.com/github/Pyatachaithanya/EE/blob/main/aasignment1.ipynb\" target=\"_parent\"><img src=\"https://colab.research.google.com/assets/colab-badge.svg\" alt=\"Open In Colab\"/></a>"
      ]
    },
    {
      "cell_type": "code",
      "source": [
        "rating=float(input(\"enter the va rating\"))\n",
        "pf=float(input(\"enter the va pf value\"))\n",
        "x=float(input(\"enter the load value\"))\n",
        "corelosses=float(input(\"enter the core losses\"))\n",
        "copperlosses=float(input(\"enter the cl losses\"))\n",
        "cu_losses=x*x*copperlosses\n",
        "output=float((rating*x)*pf)\n",
        "input=float(output+corelosses+cu_losses)\n",
        "efficiency=float(output/input)*100\n",
        "print(\"efficiency=\",efficiency)\n",
        "print(\"copper losses\",cu_losses)"
      ],
      "metadata": {
        "id": "q698do1loJqw"
      },
      "execution_count": null,
      "outputs": []
    }
  ]
}