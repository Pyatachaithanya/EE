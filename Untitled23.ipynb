{
  "nbformat": 4,
  "nbformat_minor": 0,
  "metadata": {
    "colab": {
      "provenance": [],
      "authorship_tag": "ABX9TyN5yAap3oXjM0FuLNxcXAO7",
      "include_colab_link": true
    },
    "kernelspec": {
      "name": "python3",
      "display_name": "Python 3"
    },
    "language_info": {
      "name": "python"
    }
  },
  "cells": [
    {
      "cell_type": "markdown",
      "metadata": {
        "id": "view-in-github",
        "colab_type": "text"
      },
      "source": [
        "<a href=\"https://colab.research.google.com/github/Pyatachaithanya/EE/blob/main/Untitled23.ipynb\" target=\"_parent\"><img src=\"https://colab.research.google.com/assets/colab-badge.svg\" alt=\"Open In Colab\"/></a>"
      ]
    },
    {
      "cell_type": "code",
      "execution_count": 1,
      "metadata": {
        "id": "B8C8nhVvDvxD",
        "colab": {
          "base_uri": "https://localhost:8080/"
        },
        "outputId": "b3b42b26-1f7e-4974-f31d-e7f34c6f852e"
      },
      "outputs": [
        {
          "output_type": "stream",
          "name": "stdout",
          "text": [
            "['chaithanya', 'EEE', 'SRU', '2305a21l65']\n"
          ]
        }
      ],
      "source": [
        "mylist=[\"chaithanya\",\"EEE\",\"SRU\",\"2305a21l65\"]\n",
        "print(mylist)"
      ]
    },
    {
      "cell_type": "code",
      "source": [
        "print(type(mylist))"
      ],
      "metadata": {
        "colab": {
          "base_uri": "https://localhost:8080/"
        },
        "id": "ByH-AFJgGRJE",
        "outputId": "192d8482-aa7c-44e7-aed5-bfdc5a346e8c"
      },
      "execution_count": 2,
      "outputs": [
        {
          "output_type": "stream",
          "name": "stdout",
          "text": [
            "<class 'list'>\n"
          ]
        }
      ]
    },
    {
      "cell_type": "code",
      "source": [
        "print(mylist[0:3])"
      ],
      "metadata": {
        "colab": {
          "base_uri": "https://localhost:8080/"
        },
        "id": "gHq3goQcGXzD",
        "outputId": "9d7bd584-ec1b-4502-e29e-f9994b25f1b7"
      },
      "execution_count": 3,
      "outputs": [
        {
          "output_type": "stream",
          "name": "stdout",
          "text": [
            "['chaithanya', 'EEE', 'SRU']\n"
          ]
        }
      ]
    },
    {
      "cell_type": "code",
      "source": [
        "mylist.append(\"3rd year\")\n",
        "print(mylist)"
      ],
      "metadata": {
        "colab": {
          "base_uri": "https://localhost:8080/"
        },
        "id": "AvkwrKw4GiBC",
        "outputId": "f507dff6-8e33-4551-bcda-6c051f2c999e"
      },
      "execution_count": 4,
      "outputs": [
        {
          "output_type": "stream",
          "name": "stdout",
          "text": [
            "['chaithanya', 'EEE', 'SRU', '2305a21l65', '3rd year']\n"
          ]
        }
      ]
    },
    {
      "cell_type": "code",
      "source": [
        "mylist.insert(11,13)\n",
        "print(mylist)"
      ],
      "metadata": {
        "colab": {
          "base_uri": "https://localhost:8080/"
        },
        "id": "Ccydc66DGpAT",
        "outputId": "f3398e63-a539-4f68-a7a6-192f5d6abeb6"
      },
      "execution_count": 5,
      "outputs": [
        {
          "output_type": "stream",
          "name": "stdout",
          "text": [
            "['chaithanya', 'EEE', 'SRU', '2305a21l65', '3rd year', 13]\n"
          ]
        }
      ]
    },
    {
      "cell_type": "code",
      "source": [
        "mylist.remove(mylist[4])\n",
        "print(mylist)"
      ],
      "metadata": {
        "colab": {
          "base_uri": "https://localhost:8080/"
        },
        "id": "fKNdCQaQGvPT",
        "outputId": "50e62930-851a-497e-eb33-74de02c9cd81"
      },
      "execution_count": 6,
      "outputs": [
        {
          "output_type": "stream",
          "name": "stdout",
          "text": [
            "['chaithanya', 'EEE', 'SRU', '2305a21l65', 13]\n"
          ]
        }
      ]
    },
    {
      "cell_type": "code",
      "source": [
        "mylist.remove(mylist[4])\n",
        "print(mylist)"
      ],
      "metadata": {
        "colab": {
          "base_uri": "https://localhost:8080/"
        },
        "id": "obFpbPqZG12z",
        "outputId": "46261790-421d-45a9-9ded-4b1a7475a5e1"
      },
      "execution_count": 7,
      "outputs": [
        {
          "output_type": "stream",
          "name": "stdout",
          "text": [
            "['chaithanya', 'EEE', 'SRU', '2305a21l65']\n"
          ]
        }
      ]
    },
    {
      "cell_type": "code",
      "source": [
        "mylist[1]=\"pyata\"\n",
        "print(mylist)"
      ],
      "metadata": {
        "colab": {
          "base_uri": "https://localhost:8080/"
        },
        "id": "knZ14XNMG7FD",
        "outputId": "c36dee83-65a1-4dc1-f894-38a5ae2473db"
      },
      "execution_count": 8,
      "outputs": [
        {
          "output_type": "stream",
          "name": "stdout",
          "text": [
            "['chaithanya', 'pyata', 'SRU', '2305a21l65']\n"
          ]
        }
      ]
    },
    {
      "cell_type": "code",
      "source": [
        "data=(\"apple\",\"banana\",\"cherry\")\n",
        "print(data)"
      ],
      "metadata": {
        "colab": {
          "base_uri": "https://localhost:8080/"
        },
        "id": "vayFqJ7NHCRz",
        "outputId": "560f3699-a6c4-4203-c96f-793149217fa7"
      },
      "execution_count": 9,
      "outputs": [
        {
          "output_type": "stream",
          "name": "stdout",
          "text": [
            "('apple', 'banana', 'cherry')\n"
          ]
        }
      ]
    },
    {
      "cell_type": "code",
      "source": [
        "print(type(data))\n",
        ""
      ],
      "metadata": {
        "colab": {
          "base_uri": "https://localhost:8080/"
        },
        "id": "nm3iuRGGHHlL",
        "outputId": "91d1c356-d3fd-4241-ba15-410a867667fe"
      },
      "execution_count": 12,
      "outputs": [
        {
          "output_type": "stream",
          "name": "stdout",
          "text": [
            "<class 'tuple'>\n"
          ]
        }
      ]
    }
  ]
}