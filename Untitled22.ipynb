{
  "nbformat": 4,
  "nbformat_minor": 0,
  "metadata": {
    "colab": {
      "provenance": [],
      "authorship_tag": "ABX9TyMxZYSc8NovOyWc0/JfdITT",
      "include_colab_link": true
    },
    "kernelspec": {
      "name": "python3",
      "display_name": "Python 3"
    },
    "language_info": {
      "name": "python"
    }
  },
  "cells": [
    {
      "cell_type": "markdown",
      "metadata": {
        "id": "view-in-github",
        "colab_type": "text"
      },
      "source": [
        "<a href=\"https://colab.research.google.com/github/Pyatachaithanya/EE/blob/main/Untitled22.ipynb\" target=\"_parent\"><img src=\"https://colab.research.google.com/assets/colab-badge.svg\" alt=\"Open In Colab\"/></a>"
      ]
    },
    {
      "cell_type": "code",
      "execution_count": 5,
      "metadata": {
        "colab": {
          "base_uri": "https://localhost:8080/"
        },
        "id": "yPXzq_CF7or5",
        "outputId": "d537cbf4-3ba2-4e5e-80d0-f0a158dc186e"
      },
      "outputs": [
        {
          "output_type": "stream",
          "name": "stdout",
          "text": [
            "['chaithanya', 'EEE', 'SRU', '2305A21L65']\n"
          ]
        }
      ],
      "source": [
        "my_list=[\"chaithanya\",\"EEE\",\"SRU\",\"2305A21L65\"]\n",
        "print(my_list)\n",
        "\n"
      ]
    },
    {
      "cell_type": "code",
      "source": [
        "L=[]\n",
        "L.append(\"chaithanya\")\n",
        "L.append(\"pyata\")\n",
        "L.append(\"studying EEE in sru\")\n",
        "print(L)\n"
      ],
      "metadata": {
        "colab": {
          "base_uri": "https://localhost:8080/"
        },
        "id": "-aTETU0F9eWr",
        "outputId": "375df7e6-3a36-484c-d81c-0d83f3e16cac"
      },
      "execution_count": 6,
      "outputs": [
        {
          "output_type": "stream",
          "name": "stdout",
          "text": [
            "['chaithanya', 'pyata', 'studying EEE in sru']\n"
          ]
        }
      ]
    },
    {
      "cell_type": "code",
      "source": [
        "#REMOVING ELEMENTS FROM THE LIST\n",
        "L=[20,21,22,23]\n",
        "L.remove(20)\n",
        "L.remove(21)\n",
        "print(L)\n",
        "\n",
        "\n",
        "\n"
      ],
      "metadata": {
        "colab": {
          "base_uri": "https://localhost:8080/"
        },
        "id": "t5nXuv7m_C2C",
        "outputId": "79349734-24fc-4b68-9feb-e0014a899c93"
      },
      "execution_count": 14,
      "outputs": [
        {
          "output_type": "stream",
          "name": "stdout",
          "text": [
            "[22, 23]\n"
          ]
        }
      ]
    },
    {
      "cell_type": "code",
      "source": [
        "#INdEXING\n",
        "my_list=[\"chaithanya\",\"EEE\",\"SRU\",\"2305A21L65\"]\n",
        "print(my_list[3])"
      ],
      "metadata": {
        "colab": {
          "base_uri": "https://localhost:8080/"
        },
        "id": "MxPXrLWkCsoT",
        "outputId": "644d6990-3415-49a4-de8e-6027a0a8a1c9"
      },
      "execution_count": 16,
      "outputs": [
        {
          "output_type": "stream",
          "name": "stdout",
          "text": [
            "2305A21L65\n"
          ]
        }
      ]
    },
    {
      "cell_type": "code",
      "source": [
        "#inserting a elements\n",
        "my_list=[\"chaithanya\",\"EEE\",\"SRU\",\"2305A21L65\"]\n",
        "my_list.insert(2,\"hanmakonda\")\n",
        "print(my_list)"
      ],
      "metadata": {
        "colab": {
          "base_uri": "https://localhost:8080/"
        },
        "id": "dASW8bz3EvZj",
        "outputId": "81af3c94-6baf-4e73-de25-61845cc0ddfb"
      },
      "execution_count": 18,
      "outputs": [
        {
          "output_type": "stream",
          "name": "stdout",
          "text": [
            "['chaithanya', 'EEE', 'hanmakonda', 'SRU', '2305A21L65']\n"
          ]
        }
      ]
    },
    {
      "cell_type": "code",
      "source": [
        "#reverse the order of elements n the lis\n",
        "l=[1,2,3,4,5,6,7]\n",
        "l.reverse()\n",
        "print(l)\n",
        "\n",
        "\n"
      ],
      "metadata": {
        "colab": {
          "base_uri": "https://localhost:8080/"
        },
        "id": "UUdi030SGEf0",
        "outputId": "ed4f5884-c4fa-4e88-b634-441070f2cd44"
      },
      "execution_count": 21,
      "outputs": [
        {
          "output_type": "stream",
          "name": "stdout",
          "text": [
            "[7, 6, 5, 4, 3, 2, 1]\n"
          ]
        }
      ]
    },
    {
      "cell_type": "code",
      "source": [
        "my_list=[\"chaithanya\",\"EEE\",\"SRU\",\"2305A21L65\"]\n",
        "my_list.reverse()\n",
        "print(my_list)"
      ],
      "metadata": {
        "colab": {
          "base_uri": "https://localhost:8080/"
        },
        "id": "JIEGK3w6HJ5D",
        "outputId": "5aeb65a9-b278-4ec3-a3b0-a9167932187f"
      },
      "execution_count": 22,
      "outputs": [
        {
          "output_type": "stream",
          "name": "stdout",
          "text": [
            "['2305A21L65', 'SRU', 'EEE', 'chaithanya']\n"
          ]
        }
      ]
    },
    {
      "cell_type": "code",
      "source": [
        "print(my_list[0:2])"
      ],
      "metadata": {
        "colab": {
          "base_uri": "https://localhost:8080/"
        },
        "id": "xJwwq8H7Hsbc",
        "outputId": "6899eaf3-98f9-4cf7-e0d4-8e1605d04524"
      },
      "execution_count": 24,
      "outputs": [
        {
          "output_type": "stream",
          "name": "stdout",
          "text": [
            "['2305A21L65', 'SRU']\n"
          ]
        }
      ]
    },
    {
      "cell_type": "code",
      "source": [
        "#negative indexing\n",
        "my_list=[\"chaithanya\",\"EEE\",\"SRU\",\"2305A21L65\"]\n",
        "print(my_list[-2:-1])\n"
      ],
      "metadata": {
        "colab": {
          "base_uri": "https://localhost:8080/"
        },
        "id": "EiXJB6nOJs3j",
        "outputId": "4583099e-e887-44aa-f464-abb5c0651b95"
      },
      "execution_count": 27,
      "outputs": [
        {
          "output_type": "stream",
          "name": "stdout",
          "text": [
            "['SRU']\n"
          ]
        }
      ]
    },
    {
      "cell_type": "code",
      "source": [
        "#replace the elements with others\n",
        "my_list=[\"nani\",\"lucky\",\"chinnu\"]\n",
        "my_list[2]=\"honey\"\n",
        "print(my_list)"
      ],
      "metadata": {
        "colab": {
          "base_uri": "https://localhost:8080/"
        },
        "id": "rI65drL6Kc-l",
        "outputId": "3822e7df-25f9-406b-e2de-e323f93ee7e4"
      },
      "execution_count": 29,
      "outputs": [
        {
          "output_type": "stream",
          "name": "stdout",
          "text": [
            "['nani', 'lucky', 'honey']\n"
          ]
        }
      ]
    },
    {
      "cell_type": "code",
      "source": [
        "t=()\n",
        "print(type(t))\n",
        "\n"
      ],
      "metadata": {
        "colab": {
          "base_uri": "https://localhost:8080/"
        },
        "id": "ecXzpn_3MILU",
        "outputId": "4dda4898-e328-49d6-d04e-b5b05ec908f9"
      },
      "execution_count": 30,
      "outputs": [
        {
          "output_type": "stream",
          "name": "stdout",
          "text": [
            "<class 'tuple'>\n"
          ]
        }
      ]
    },
    {
      "cell_type": "code",
      "source": [
        "#tuple can hold hetrogrnic values\n",
        "t=(\"12\",\"trute\",\"hai\",\"3+2j\")\n",
        "print(t)"
      ],
      "metadata": {
        "colab": {
          "base_uri": "https://localhost:8080/"
        },
        "id": "czo59zLOMXQb",
        "outputId": "74ce8b04-dd27-4d71-9dae-79f5bace640d"
      },
      "execution_count": 35,
      "outputs": [
        {
          "output_type": "stream",
          "name": "stdout",
          "text": [
            "('12', 'trute', 'hai', '3+2j')\n"
          ]
        }
      ]
    },
    {
      "cell_type": "code",
      "source": [
        "#tuple can applicable for index\n",
        "t=(\"12\",\"trute\",\"hai\",\"3+2j\")\n",
        "print(t)\n",
        "print(t[0])\n",
        "print(t[-1])"
      ],
      "metadata": {
        "colab": {
          "base_uri": "https://localhost:8080/"
        },
        "id": "r6FqVz4aN5iN",
        "outputId": "2990e75a-4131-4db1-cd2f-085e0fec40cd"
      },
      "execution_count": 36,
      "outputs": [
        {
          "output_type": "stream",
          "name": "stdout",
          "text": [
            "('12', 'trute', 'hai', '3+2j')\n",
            "12\n",
            "3+2j\n"
          ]
        }
      ]
    }
  ]
}